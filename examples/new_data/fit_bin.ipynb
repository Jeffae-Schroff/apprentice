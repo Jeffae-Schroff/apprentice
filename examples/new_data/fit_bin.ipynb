{
 "cells": [
  {
   "cell_type": "code",
   "execution_count": 1,
   "metadata": {},
   "outputs": [
    {
     "name": "stdout",
     "output_type": "stream",
     "text": [
      "<KeysViewHDF5 ['errors', 'index', 'params', 'runs', 'values', 'xmax', 'xmin']>\n",
      "parameter names:  [\"b'a'\", \"b'b'\"]\n",
      "2  observables\n",
      "['/func0' '/func1']\n",
      "[b'/func0#0' b'/func0#1' b'/func0#2' b'/func0#3' b'/func0#4' b'/func0#5'\n",
      " b'/func0#6' b'/func0#7' b'/func0#8' b'/func0#9']\n",
      "['/func0#0', '/func0#1', '/func0#2', '/func0#3', '/func0#4', '/func0#5', '/func0#6', '/func0#7', '/func0#8', '/func0#9']\n"
     ]
    }
   ],
   "source": [
    "import h5py\n",
    "import numpy as np\n",
    "import jax.numpy as jnp\n",
    "from jax.config import config\n",
    "config.update(\"jax_enable_x64\", True)\n",
    "import matplotlib.pyplot as plt\n",
    "\n",
    "\n",
    "f = h5py.File('../dummy_data/jax_test/inputdata.h5', \"r\")\n",
    "order = 3\n",
    "bin_name = '/func0#0'\n",
    "\n",
    "\n",
    "# f = h5py.File('inputdata.h5', \"r\")\n",
    "# order = 3\n",
    "# bin_name = '/ATLAS_2019_I1736531/d01-x01-y01[AUX_isr:murfac=0.5]#0'\n",
    "\n",
    "print(f.keys())\n",
    "\n",
    "pnames = [str(p) for p in f.get('params').attrs[\"names\"]]\n",
    "print(\"parameter names: \", pnames)\n",
    "\n",
    "observables = np.unique([x.decode().split(\"#\")[0] for x in f.get(\"index\")[:]])\n",
    "print(len(observables), \" observables\")\n",
    "print(observables[0:10])\n",
    "print(f.get(\"index\")[0:10])\n",
    "\n",
    "# key bin names to the array indexes(of values) with binids(in index) matching thier bin\n",
    "index = {}\n",
    "II = [x.decode() for x in f.get(\"index\")[:]]\n",
    "print(II[0:10])\n",
    "[index.setdefault(bin.split('#')[0], []).append(i) for i,bin in enumerate(II)]\n",
    "index = {k : np.array(index[k]) for k in index.keys()}"
   ]
  },
  {
   "cell_type": "code",
   "execution_count": 2,
   "metadata": {},
   "outputs": [
    {
     "name": "stdout",
     "output_type": "stream",
     "text": [
      "<KeysViewHDF5 ['errors', 'index', 'params', 'runs', 'values', 'xmax', 'xmin']>\n",
      "[b'../MC/000000', b'../MC/000001', b'../MC/000002', b'../MC/000003', b'../MC/000004', b'../MC/000005', b'../MC/000006', b'../MC/000007', b'../MC/000008', b'../MC/000009', b'../MC/000010', b'../MC/000011', b'../MC/000012', b'../MC/000013', b'../MC/000014', b'../MC/000015', b'../MC/000016', b'../MC/000017', b'../MC/000018', b'../MC/000019', b'../MC/000020', b'../MC/000021', b'../MC/000022', b'../MC/000023', b'../MC/000024', b'../MC/000025', b'../MC/000026', b'../MC/000027', b'../MC/000028', b'../MC/000029', b'../MC/000030', b'../MC/000031', b'../MC/000032', b'../MC/000033', b'../MC/000034', b'../MC/000035', b'../MC/000036', b'../MC/000037', b'../MC/000038', b'../MC/000039', b'../MC/000040', b'../MC/000041']\n",
      "[array([ 1.29908323, -1.14741315]), array([ 1.58822832, -0.96917223]), array([ 1.38118907, -0.80663435]), array([ 1.34155249, -1.10053236]), array([ 1.64310488, -1.14071321]), array([ 1.70596303, -1.14180154]), array([ 1.95877674, -1.14182621]), array([ 1.11554722, -0.96768765]), array([ 1.30505954, -1.15028726]), array([ 1.60432986, -0.89793959]), array([ 1.8345286 , -0.90423928]), array([ 1.00687648, -0.97313553]), array([ 1.38418741, -0.93503773]), array([ 1.41986489, -1.12946913]), array([ 1.97869264, -1.09938642]), array([ 1.81096094, -0.97381775]), array([ 1.61835886, -1.06951255]), array([ 1.29030429, -1.0239309 ]), array([ 1.90929311, -1.13188111]), array([ 1.17639794, -1.14183892]), array([ 1.83016989, -0.96273913]), array([ 1.89108102, -0.84049775]), array([ 1.27754387, -0.99302589]), array([ 1.48994959, -0.99352708]), array([ 1.66557088, -0.99567366]), array([ 1.45448293, -1.17310006]), array([ 1.3702846 , -0.96452072]), array([ 1.39184134, -1.05092334]), array([ 1.80248061, -0.8252367 ]), array([ 1.22475498, -0.91019749]), array([ 1.01370985, -0.99102894]), array([ 1.76938957, -0.95577389]), array([ 1.68719164, -0.8484023 ]), array([ 1.28818709, -0.82505476]), array([ 1.54921062, -0.91714542]), array([ 1.34523909, -0.94838483]), array([ 1.65023095, -0.82602978]), array([ 1.45513435, -1.04141477]), array([ 1.97487962, -0.92524219]), array([ 1.34562854, -0.92213361]), array([ 1.47603116, -1.18348625]), array([ 1.5476694 , -1.05054214])]\n"
     ]
    }
   ],
   "source": [
    "print(f.keys())\n",
    "print(list(f['runs']))\n",
    "print(list(f['params']))"
   ]
  },
  {
   "cell_type": "markdown",
   "metadata": {},
   "source": [
    "Helper funcs"
   ]
  },
  {
   "cell_type": "code",
   "execution_count": 6,
   "metadata": {},
   "outputs": [],
   "source": [
    "def grlex_eval(dim, order, coeff, x):\n",
    "    np.flip(x)\n",
    "    term = np.zeros(dim)\n",
    "    sum = 0\n",
    "    for i in range(numCoeffsPoly(dim, order)):\n",
    "        sum += coeff[i]*(x**term).prod()\n",
    "        # print(coeff[i], ' * ', x**term, ' term ', term)\n",
    "        term = mono_next_grlex(dim, term)\n",
    "    print(sum)\n",
    "    return sum.sum()\n",
    "def numCoeffsPoly(dim, order):\n",
    "    \"\"\"\n",
    "    Number of coefficients a dim-dimensional polynomial of order order has.\n",
    "    \"\"\"\n",
    "    ntok = 1\n",
    "    r = min(order, dim)\n",
    "    for i in range(r):\n",
    "        ntok = ntok * (dim + order - i) / (i + 1)\n",
    "    return int(ntok)\n",
    "def mono_next_grlex(m, x):\n",
    "    #  Author:\n",
    "    #\n",
    "    #    John Burkardt\n",
    "    #\n",
    "    #     TODO --- figure out the licensing thing https://people.sc.fsu.edu/~jburkardt/py_src/monomial/monomial.html\n",
    "\n",
    "    #  Find I, the index of the rightmost nonzero entry of X.\n",
    "    i = 0\n",
    "    for j in range(m, 0, -1):\n",
    "        if 0 < x[j-1]:\n",
    "            i = j\n",
    "            break\n",
    "\n",
    "    #  set T = X(I)\n",
    "    #  set X(I) to zero,\n",
    "    #  increase X(I-1) by 1,\n",
    "    #  increment X(M) by T-1.\n",
    "    if i == 0:\n",
    "        x[m-1] = 1\n",
    "        return x\n",
    "    elif i == 1:\n",
    "        t = x[0] + 1\n",
    "        im1 = m\n",
    "    elif 1 < i:\n",
    "        t = x[i-1]\n",
    "        im1 = i - 1\n",
    "\n",
    "    x[i-1] = 0\n",
    "    x[im1-1] = x[im1-1] + 1\n",
    "    x[m-1] = x[m-1] + t - 1\n",
    "\n",
    "    return x\n",
    "\n",
    "def vandermonde_jax(params, order):\n",
    "    \"\"\"\n",
    "    Construct the Vandermonde matrix.\n",
    "    \"\"\"\n",
    "    try:\n",
    "        dim = len(params[0])\n",
    "    except:\n",
    "        dim = 1\n",
    "\n",
    "    #We will take params to the power of s element-wise\n",
    "    if dim == 1:\n",
    "        s = jnp.array(range(order+1))\n",
    "    else:\n",
    "        term_list = [[0]*dim]\n",
    "        for i in range(1, numCoeffsPoly(dim, order)):\n",
    "            term_list.append(mono_next_grlex(dim, term_list[-1][:]))\n",
    "        s = jnp.array(term_list)\n",
    "    \n",
    "    if len(params[0]) == 1:\n",
    "        V = jnp.zeros((len(params), numCoeffsPoly(dim, order)), dtype=jnp.float64)\n",
    "        for a, p in enumerate(params): \n",
    "            V = V.at[a].set(p**s)\n",
    "        return V\n",
    "    else:\n",
    "        V = jnp.power(params, s[:, jnp.newaxis])\n",
    "        return jnp.prod(V, axis=2).T\n"
   ]
  },
  {
   "cell_type": "markdown",
   "metadata": {},
   "source": [
    "Original monomial apprentice code for tests"
   ]
  },
  {
   "cell_type": "code",
   "execution_count": 7,
   "metadata": {},
   "outputs": [
    {
     "name": "stdout",
     "output_type": "stream",
     "text": [
      "warning in stationary: failed to import cython module: falling back to numpy\n",
      "warning in coregionalize: failed to import cython module: falling back to numpy\n",
      "warning in choleskies: failed to import cython module: falling back to numpy\n",
      "GPs not available: No module named 'pandas'\n",
      "[[0 0]\n",
      " [0 1]\n",
      " [1 0]\n",
      " [0 2]\n",
      " [1 1]\n",
      " [2 0]\n",
      " [0 3]\n",
      " [1 2]\n",
      " [2 1]\n",
      " [3 0]]\n"
     ]
    }
   ],
   "source": [
    "import numpy as np\n",
    "from numba import jit, njit\n",
    "\n",
    "# @njit\n",
    "def mono_next_grlex(m, x):\n",
    "    #  Author:\n",
    "    #\n",
    "    #    John Burkardt\n",
    "    #\n",
    "    #     TODO --- figure out the licensing thing https://people.sc.fsu.edu/~jburkardt/py_src/monomial/monomial.html\n",
    "\n",
    "    #  Find I, the index of the rightmost nonzero entry of X.\n",
    "    i = 0\n",
    "    for j in range(m, 0, -1):\n",
    "        if 0 < x[j-1]:\n",
    "            i = j\n",
    "            break\n",
    "\n",
    "    #  set T = X(I)\n",
    "    #  set X(I) to zero,\n",
    "    #  increase X(I-1) by 1,\n",
    "    #  increment X(M) by T-1.\n",
    "    if i == 0:\n",
    "        x[m-1] = 1\n",
    "        return x\n",
    "    elif i == 1:\n",
    "        t = x[0] + 1\n",
    "        im1 = m\n",
    "    elif 1 < i:\n",
    "        t = x[i-1]\n",
    "        im1 = i - 1\n",
    "\n",
    "    x[i-1] = 0\n",
    "    x[im1-1] = x[im1-1] + 1\n",
    "    x[m-1] = x[m-1] + t - 1\n",
    "\n",
    "    return x\n",
    "\n",
    "def genStruct(dim, mnm):\n",
    "    while True:\n",
    "        yield mnm\n",
    "        mnm =  mono_next_grlex(dim, mnm)\n",
    "\n",
    "from functools import lru_cache\n",
    "@lru_cache(maxsize=32)\n",
    "def monomialStructure(dim, order):\n",
    "    import numpy as np\n",
    "    import copy\n",
    "    from apprentice import tools\n",
    "    ncmax = tools.numCoeffsPoly(dim, order)\n",
    "    gen = genStruct(dim, np.zeros(dim))\n",
    "    structure = np.array([ copy.copy(next(gen)) for _ in range(ncmax)], dtype=int)\n",
    "    # Dimension one requires some extra treatment when returning ---writing out is fine\n",
    "    if dim==1:\n",
    "        return structure.ravel()\n",
    "    return structure\n",
    "\n",
    "def recurrence1D(X, structure):\n",
    "    return X**structure\n",
    "\n",
    "def recurrence(X, structure):\n",
    "    \"\"\"\n",
    "    Create the parameter combination vector for a particular structure,\n",
    "    or in more mathy terms, the recurrence relation for X in a monomial basis\n",
    "    structure.\n",
    "    \"\"\"\n",
    "    return np.prod(X**structure, axis=1, dtype=np.float64)\n",
    "\n",
    "\n",
    "def recurrence2(X, structure, nnz):\n",
    "    temp = np.ones((len(structure), len(X)))\n",
    "    np.power(X, structure, where=nnz, out=(temp))\n",
    "    return np.prod(temp, axis=1)\n",
    "\n",
    "def vandermonde(params, order):\n",
    "    \"\"\"\n",
    "    Construct the Vandermonde matrix.\n",
    "    \"\"\"\n",
    "    import numpy as np\n",
    "    try:\n",
    "        dim = len(params[0])\n",
    "    except:\n",
    "        dim = 1\n",
    "\n",
    "    from apprentice import tools\n",
    "    s = monomialStructure(dim, order)\n",
    "    if len(params[0]) == 1:\n",
    "        V = np.zeros((len(params), tools.numCoeffsPoly(dim, order)), dtype=np.float64)\n",
    "        for a, p in enumerate(params): V[a]=recurrence1D(p, s)\n",
    "        return V\n",
    "    else:\n",
    "        V = np.ones((tools.numCoeffsPoly(dim, order), *params.shape), dtype=np.float64)\n",
    "        np.power(params, s[:, np.newaxis], out=(V), where=s[:, np.newaxis]>0)\n",
    "        return np.prod(V, axis=2).T\n",
    "\n",
    "if __name__==\"__main__\":\n",
    "    print(monomialStructure(2,3))\n"
   ]
  },
  {
   "cell_type": "code",
   "execution_count": 8,
   "metadata": {},
   "outputs": [
    {
     "name": "stderr",
     "output_type": "stream",
     "text": [
      "WARNING:absl:No GPU/TPU found, falling back to CPU. (Set TF_CPP_MIN_LOG_LEVEL=0 and rerun for more info.)\n"
     ]
    },
    {
     "name": "stdout",
     "output_type": "stream",
     "text": [
      "vandermonde  [[ 1.         -1.14741315  1.29908323  1.31655693 -1.49058517  1.68761724\n",
      "  -1.51063472  1.71031702 -1.9363942   2.19235525]\n",
      " [ 1.         -0.96917223  1.58822832  0.93929481 -1.53926679  2.5224692\n",
      "  -0.91033845  1.49181462 -2.4447071   4.00625703]\n",
      " [ 1.         -0.80663435  1.38118907  0.65065898 -1.11411456  1.90768326\n",
      "  -0.52484389  0.89868307 -1.53880285  2.63487127]\n",
      " [ 1.         -1.10053236  1.34155249  1.21117148 -1.47642193  1.79976309\n",
      "  -1.3329334   1.62485011 -1.98069752  2.41447666]\n",
      " [ 1.         -1.14071321  1.64310488  1.30122662 -1.87431144  2.69979365\n",
      "  -1.4843264   2.13805182 -3.07969027  4.43604412]\n",
      " [ 1.         -1.14180154  1.70596303  1.30371075 -1.9478712   2.91030985\n",
      "  -1.48857893  2.22408233 -3.32299625  4.964881  ]\n",
      " [ 1.         -1.14182621  1.95877674  1.3037671  -2.23658263  3.83680633\n",
      "  -1.48867544  2.55378867 -4.38096604  7.51544701]\n",
      " [ 1.         -0.96768765  1.11554722  0.93641938 -1.07950127  1.2444456\n",
      "  -0.90616147  1.04462004 -1.20423464  1.38823783]\n",
      " [ 1.         -1.15028726  1.30505954  1.32316077 -1.50119336  1.70318041\n",
      "  -1.52201498  1.72680359 -1.95914672  2.22275184]\n",
      " [ 1.         -0.89793959  1.60432986  0.8062955  -1.44059129  2.5738743\n",
      "  -0.72400465  1.29356395 -2.31118362  4.12934339]\n",
      " [ 1.         -0.90423928  1.8345286   0.81764867 -1.65885282  3.36549518\n",
      "  -0.73935005  1.49999988 -3.04321294  6.17409715]\n",
      " [ 1.         -0.97313553  1.00687648  0.94699276 -0.97982728  1.01380025\n",
      "  -0.9215523   0.95350473 -0.98656504  1.02077163]\n",
      " [ 1.         -0.93503773  1.38418741  0.87429555 -1.29426745  1.91597478\n",
      "  -0.81749933  1.21018889 -1.79150871  2.65206817]\n",
      " [ 1.         -1.12946913  1.41986489  1.27570052 -1.60369357  2.01601631\n",
      "  -1.44086436  1.81132238 -2.27702819  2.86247077]\n",
      " [ 1.         -1.09938642  1.97869264  1.2086505  -2.17534781  3.91522455\n",
      "  -1.32877394  2.39154784 -4.3043447   7.747026  ]\n",
      " [ 1.         -0.97381775  1.81096094  0.94832102 -1.76354591  3.27957953\n",
      "  -0.92349184  1.71737232 -3.19371277  5.93919043]\n",
      " [ 1.         -1.06951255  1.61835886  1.14385709 -1.73085511  2.6190854\n",
      "  -1.22336951  1.85117126 -2.8011447   4.23862006]\n",
      " [ 1.         -1.0239309   1.29030429  1.04843449 -1.32118243  1.66488517\n",
      "  -1.07352446  1.35279952 -1.70472736  2.14820847]\n",
      " [ 1.         -1.13188111  1.90929311  1.28115485 -2.16109281  3.64540017\n",
      "  -1.45011498  2.44610013 -4.1261596   6.96013743]\n",
      " [ 1.         -1.14183892  1.17639794  1.30379612 -1.34325695  1.38391211\n",
      "  -1.48872515  1.53378306 -1.5802047   1.62803135]\n",
      " [ 1.         -0.96273913  1.83016989  0.92686664 -1.76197617  3.34952183\n",
      "  -0.89233078  1.69632341 -3.22471574  6.13019401]\n",
      " [ 1.         -0.84049775  1.89108102  0.70643646 -1.58944934  3.57618744\n",
      "  -0.59375826  1.33592859 -3.00577749  6.76286019]\n",
      " [ 1.         -0.99302589  1.27754387  0.98610042 -1.26863413  1.63211833\n",
      "  -0.97922324  1.25978654 -1.62073575  2.08510276]\n",
      " [ 1.         -0.99352708  1.48994959  0.98709606 -1.48030527  2.21994979\n",
      "  -0.98070667  1.47072338 -2.20558023  3.30761328]\n",
      " [ 1.         -0.99567366  1.66557088  0.99136605 -1.65836506  2.77412634\n",
      "  -0.98707706  1.65119041 -2.76212454  4.62050404]\n",
      " [ 1.         -1.17310006  1.45448293  1.37616374 -1.70625401  2.11552061\n",
      "  -1.61437776  2.00160667 -2.48171734  3.07698862]\n",
      " [ 1.         -0.96452072  1.3702846   0.93030022 -1.32166789  1.87767988\n",
      "  -0.89729384  1.27477606 -1.81106115  2.57295582]\n",
      " [ 1.         -1.05092334  1.39184134  1.10443987 -1.46271855  1.93722231\n",
      "  -1.16068163  1.53720506 -2.03587214  2.69630609]\n",
      " [ 1.         -0.8252367   1.80248061  0.68101561 -1.48747315  3.24893634\n",
      "  -0.56199908  1.22751744 -2.68114151  5.85614473]\n",
      " [ 1.         -0.91019749  1.22475498  0.82845948 -1.11476891  1.50002476\n",
      "  -0.75406174  1.01465987 -1.36531878  1.8371628 ]\n",
      " [ 1.         -0.99102894  1.01370985  0.98213836 -1.0046158   1.02760766\n",
      "  -0.97332754  0.99560333 -1.01838893  1.04169601]\n",
      " [ 1.         -0.95577389  1.76938957  0.91350373 -1.69113635  3.13073946\n",
      "  -0.87310301  1.61634396 -2.99227902  5.53949774]\n",
      " [ 1.         -0.8484023   1.68719164  0.71978646 -1.43141726  2.84661562\n",
      "  -0.61066848  1.21441769 -2.41507523  4.80278608]\n",
      " [ 1.         -0.82505476  1.28818709  0.68071535 -1.06282489  1.65942598\n",
      "  -0.56162744  0.87688873 -1.3691173   2.13765113]\n",
      " [ 1.         -0.91714542  1.54921062  0.84115572 -1.42085142  2.40005354\n",
      "  -0.77146211  1.30312737 -2.20119811  3.71818844]\n",
      " [ 1.         -0.94838483  1.34523909  0.89943378 -1.27580434  1.80966821\n",
      "  -0.85300935  1.20995348 -1.71626187  2.43443643]\n",
      " [ 1.         -0.82602978  1.65023095  0.68232519 -1.3631399   2.7232622\n",
      "  -0.56362093  1.12599415 -2.24949566  4.49401157]\n",
      " [ 1.         -1.04141477  1.45513435  1.08454473 -1.51539841  2.11741598\n",
      "  -1.12946091  1.5781583  -2.20510829  3.08112474]\n",
      " [ 1.         -0.92524219  1.97487962  0.85607311 -1.82724195  3.90014953\n",
      "  -0.79207496  1.69064135 -3.6085829   7.70232584]\n",
      " [ 1.         -0.92213361  1.34562854  0.8503304  -1.24084931  1.81071617\n",
      "  -0.78411824  1.14422886 -1.66972225  2.43655136]\n",
      " [ 1.         -1.18348625  1.47603116  1.40063969 -1.74686258  2.178668\n",
      "  -1.65763781  2.06738784 -2.57842361  3.21578186]\n",
      " [ 1.         -1.05054214  1.5476694   1.10363879 -1.62589193  2.39528058\n",
      "  -1.15941906  1.70806799 -2.5163432   3.70710248]]\n"
     ]
    }
   ],
   "source": [
    "\n",
    "dim = len(f['params'][0])\n",
    "\n",
    "obs_name, bin_number = bin_name.split('#')[0], bin_name.split('#')[1] \n",
    "X = np.array(f['params'][:], dtype=np.float64)\n",
    "Y = np.array(f['values'][index[obs_name][int(bin_number)]])\n",
    "VM = vandermonde_jax(X, order)\n",
    "\n",
    "# print('should be 0(equal): ', np.subtract(vandermonde(X, order),VM))\n",
    "# print('params ', X)\n",
    "# print('values ', Y)\n",
    "print('vandermonde ', VM)"
   ]
  },
  {
   "cell_type": "code",
   "execution_count": 9,
   "metadata": {},
   "outputs": [
    {
     "name": "stdout",
     "output_type": "stream",
     "text": [
      "polynomial ceofficients:  [  80.62972621  104.38691504  -78.86316804   22.8934713  -118.4974257\n",
      "    7.38508711  -13.12712689  -45.0598705     9.27279875    0.98583797]\n"
     ]
    },
    {
     "data": {
      "image/png": "[encoded data removed]",
      "text/plain": [
       "<Figure size 432x288 with 1 Axes>"
      ]
     },
     "metadata": {
      "needs_background": "light"
     },
     "output_type": "display_data"
    }
   ],
   "source": [
    "pcoeff, res, rank, s  = np.linalg.lstsq(VM, Y, rcond=None)\n",
    "\n",
    "# U, S, V = np.linalg.svd(VM)\n",
    "# # SM dixit: manipulations to solve for the coefficients\n",
    "# # Given A = U Sigma VT, for A x = b, x = V Sigma^-1 UT b\n",
    "# temp = np.dot(U.T, Y.T)[0:S.size]\n",
    "# pcoeff = np.dot(V.T, 1./S * temp)\n",
    "# epsilon = Y - np.dot(VM, pcoeff)\n",
    "# resids = np.dot(epsilon.T, epsilon)\n",
    "\n",
    "def genStruct(dim, mnm):\n",
    "    while True:\n",
    "        yield mnm\n",
    "        mnm =  mono_next_grlex(dim, mnm)\n",
    "\n",
    "def surrogate(x):\n",
    "    term = dim*[0]\n",
    "    powers = []\n",
    "    for i in range(numCoeffsPoly(dim, order)):\n",
    "        powers.append(list(term))\n",
    "        term = mono_next_grlex(dim, term)\n",
    "    fit = []\n",
    "    for xi in x:\n",
    "        fit.append(sum(pcoeff*np.product(xi**powers, axis=1)))\n",
    "    return fit\n",
    "\n",
    "# print('polynomial ceofficients compare: ', pcoeff2-pcoeff)\n",
    "print('polynomial ceofficients: ', pcoeff)\n",
    "if dim == 1:\n",
    "    p = np.linspace(X.min(), X.max(), 100)\n",
    "    plt.plot(p, surrogate(p))\n",
    "    plt.scatter(X.flatten(), Y)\n",
    "elif dim == 2:\n",
    "    fig, ax = plt.subplots()\n",
    "    plt.scatter(surrogate(X), Y)\n",
    "    plt.xlabel('surrogate')\n",
    "    plt.ylabel('nominal')\n",
    "    ax.autoscale(tight=True)\n",
    "    xlim = ax.get_xlim()\n",
    "    plt.plot(xlim, xlim, 'k--')\n",
    "    # attempted contour pain\n",
    "    # p_1 = np.linspace(X.min(axis=0)[0], X.max(axis=0)[0], 10)\n",
    "    # p_2 = np.linspace(X.min(axis=0)[1], X.max(axis=0)[1], 10)\n",
    "    # P_1, P_2 = np.meshgrid(p_1, p_2)\n",
    "    # s = np.zeros((len(P_1), len(P_2)))\n",
    "    # for i in range(len(P_1)):\n",
    "    #     for j in range(len(P_2)):\n",
    "    #         # print(P_1[i,j],P_2[i,j])\n",
    "    #         # print(surrogate([P_1[i,j],P_2[i,j]]))\n",
    "    #         s[i,j] = surrogate([P_1[i,j],P_2[i,j]])[0]\n",
    "\n",
    "    # ax = plt.axes(projection='3d')\n",
    "    # ax.contour3D(P_1, P_2, s, 50, cmap='binary')\n",
    "    # ax.scatter3D(X[:,0],X[:,1], Y, c=Y, cmap='Greens')\n",
    "    # # ax.plot3D(p[:,0],p[:,1] , surrogate(p), 'gray')\n",
    "    "
   ]
  },
  {
   "cell_type": "code",
   "execution_count": 10,
   "metadata": {},
   "outputs": [
    {
     "name": "stdout",
     "output_type": "stream",
     "text": [
      "[0, 0]\n",
      "[0, 1]\n"
     ]
    }
   ],
   "source": [
    "def genStruct(dim, mnm):\n",
    "    while True:\n",
    "        yield mnm\n",
    "        mnm =  mono_next_grlex(dim, mnm)\n",
    "\n",
    "term = genStruct(dim, [0]*dim)\n",
    "print(next(term))\n",
    "print(next(term))"
   ]
  },
  {
   "cell_type": "code",
   "execution_count": 11,
   "metadata": {},
   "outputs": [],
   "source": [
    "f.close()"
   ]
  },
  {
   "cell_type": "code",
   "execution_count": 41,
   "metadata": {},
   "outputs": [
    {
     "name": "stdout",
     "output_type": "stream",
     "text": [
      "[[ 1.5 -1.1]\n",
      " [ 1.4 -1.1]]\n",
      "2.5410000000000004\n",
      "[-1.65 -1.54]\n",
      "2\n"
     ]
    }
   ],
   "source": [
    "test = np.array(np.array([[1.5, -1.1], [1.4,-1.1]]))\n",
    "print(test)\n",
    "print(np.product(test))\n",
    "print(np.product(test, axis = 1))\n",
    "\n",
    "print(np.prod(np.array([1,2]), axis=None))"
   ]
  },
  {
   "cell_type": "code",
   "execution_count": 55,
   "metadata": {},
   "outputs": [
    {
     "name": "stdout",
     "output_type": "stream",
     "text": [
      "<function surrogate at 0x7f5199de6c10>\n",
      "[3.4132334400472573, 3.9113615313652454]\n",
      "<function surrogate2 at 0x7f5184358280>\n",
      "3.4132334400472573\n",
      "[[3.41323344 3.91136153]\n",
      " [3.41323344 3.91136153]]\n"
     ]
    }
   ],
   "source": [
    "def surrogate2(x):\n",
    "    \"\"\"\n",
    "    Takes a list/array of param sets, and returns the surrogate's estimate for their nominal values.\n",
    "    The length of the highest dimension of the list/array is the number of params.\n",
    "    \"\"\"\n",
    "    x = np.array(x)\n",
    "    dim = x.shape[-1]\n",
    "    term_powers = dim*[0]\n",
    "    numCoeffs = VM.shape[1]\n",
    "    pvalues = []\n",
    "    last_axis = None if len(x.shape) == 1 else len(x.shape)-1\n",
    "    for term_num in range(numCoeffs):\n",
    "        #appending the value of the term for each param set given\n",
    "        pvalues.append(pcoeff[term_num]*np.prod(x**term_powers, axis = last_axis))\n",
    "        term_powers = mono_next_grlex(dim, term_powers)\n",
    "    #add along first axis to sum the terms for each param set\n",
    "    return np.sum(pvalues, axis=None if len(x.shape) == 1 else 0)\n",
    "    \n",
    "    \n",
    "\n",
    "print(surrogate)\n",
    "print(surrogate(np.array([[1.5, -1.1], [1.4,-1.1]])))\n",
    "print(surrogate2)\n",
    "print(surrogate2(np.array([1.5, -1.1])))\n",
    "print(surrogate2(np.array([[[1.5, -1.1], [1.4,-1.1]],[[1.5, -1.1], [1.4,-1.1]]])))"
   ]
  },
  {
   "cell_type": "code",
   "execution_count": null,
   "metadata": {},
   "outputs": [
    {
     "data": {
      "text/plain": [
       "Text(0.5, 1.0, \"Percent error of the surrogate's predicted values for original data\")"
      ]
     },
     "execution_count": 74,
     "metadata": {},
     "output_type": "execute_result"
    },
    {
     "data": {
      "image/png": "[encoded data removed]",
      "text/plain": [
       "<Figure size 432x288 with 1 Axes>"
      ]
     },
     "metadata": {
      "needs_background": "light"
     },
     "output_type": "display_data"
    }
   ],
   "source": [
    "from matplotlib.ticker import PercentFormatter\n",
    "\n",
    "surrogate_Y = np.matmul(VM, pcoeff)\n",
    "percent_error = (surrogate_Y-Y)/Y\n",
    "plt.hist(percent_error, bins = 10)\n",
    "plt.gca().xaxis.set_major_formatter(PercentFormatter(1))\n",
    "plt.title('Percent error of the surrogate\\'s predicted values for original data')"
   ]
  },
  {
   "cell_type": "code",
   "execution_count": null,
   "metadata": {},
   "outputs": [
    {
     "name": "stdout",
     "output_type": "stream",
     "text": [
      "<function surrogate at 0x7f208c490ca0>\n",
      "[-241.33532193343083, 14.81547258967436]\n",
      "<function surrogate at 0x7f208c490ca0>\n",
      "[3.2048420418561143]\n",
      "<function surrogate at 0x7f208c490ca0>\n",
      "[3.2048420418561143]\n"
     ]
    }
   ],
   "source": [
    "import pickle\n",
    "f = open('pickle_test', 'wb')\n",
    "pickle.dump(surrogate, f)\n",
    "f.close()\n",
    "\n",
    "f = open('pickle_test', 'rb')\n",
    "unpickled_func = pickle.load(f)\n",
    "f.close()\n",
    "\n",
    "print(surrogate)\n",
    "print(surrogate(np.array([[1.5, -1]])))\n",
    "print(unpickled_func)\n",
    "print(unpickled_func(np.array([[1.5, -1]])))\n",
    "\n"
   ]
  },
  {
   "cell_type": "code",
   "execution_count": null,
   "metadata": {},
   "outputs": [
    {
     "ename": "AttributeError",
     "evalue": "Can't get attribute 'surrogate' on <module '__main__'>",
     "output_type": "error",
     "traceback": [
      "\u001b[0;31m---------------------------------------------------------------------------\u001b[0m",
      "\u001b[0;31mAttributeError\u001b[0m                            Traceback (most recent call last)",
      "\u001b[1;32m/home/jeffae/apprentice-cov/examples/new_data/fit_bin.ipynb Cell 15\u001b[0m in \u001b[0;36m<cell line: 3>\u001b[0;34m()\u001b[0m\n\u001b[1;32m      <a href='vscode-notebook-cell://wsl%2Bubuntu-20.04/home/jeffae/apprentice-cov/examples/new_data/fit_bin.ipynb#X21sdnNjb2RlLXJlbW90ZQ%3D%3D?line=0'>1</a>\u001b[0m \u001b[39mimport\u001b[39;00m \u001b[39mpickle\u001b[39;00m\n\u001b[1;32m      <a href='vscode-notebook-cell://wsl%2Bubuntu-20.04/home/jeffae/apprentice-cov/examples/new_data/fit_bin.ipynb#X21sdnNjb2RlLXJlbW90ZQ%3D%3D?line=1'>2</a>\u001b[0m f \u001b[39m=\u001b[39m \u001b[39mopen\u001b[39m(\u001b[39m'\u001b[39m\u001b[39mpickle_test\u001b[39m\u001b[39m'\u001b[39m, \u001b[39m'\u001b[39m\u001b[39mrb\u001b[39m\u001b[39m'\u001b[39m)\n\u001b[0;32m----> <a href='vscode-notebook-cell://wsl%2Bubuntu-20.04/home/jeffae/apprentice-cov/examples/new_data/fit_bin.ipynb#X21sdnNjb2RlLXJlbW90ZQ%3D%3D?line=2'>3</a>\u001b[0m unpickled_func \u001b[39m=\u001b[39m pickle\u001b[39m.\u001b[39;49mload(f)\n\u001b[1;32m      <a href='vscode-notebook-cell://wsl%2Bubuntu-20.04/home/jeffae/apprentice-cov/examples/new_data/fit_bin.ipynb#X21sdnNjb2RlLXJlbW90ZQ%3D%3D?line=3'>4</a>\u001b[0m f\u001b[39m.\u001b[39mclose()\n\u001b[1;32m      <a href='vscode-notebook-cell://wsl%2Bubuntu-20.04/home/jeffae/apprentice-cov/examples/new_data/fit_bin.ipynb#X21sdnNjb2RlLXJlbW90ZQ%3D%3D?line=4'>5</a>\u001b[0m \u001b[39mprint\u001b[39m(unpickled_func)\n",
      "\u001b[0;31mAttributeError\u001b[0m: Can't get attribute 'surrogate' on <module '__main__'>"
     ]
    }
   ],
   "source": [
    "import pickle\n",
    "f = open('pickle_test', 'rb')\n",
    "unpickled_func = pickle.load(f)\n",
    "f.close()\n",
    "print(unpickled_func)\n",
    "print(unpickled_func(np.array([[1.5, -1]])))\n"
   ]
  }
 ],
 "metadata": {
  "kernelspec": {
   "display_name": "Python 3.8.10 64-bit",
   "language": "python",
   "name": "python3"
  },
  "language_info": {
   "codemirror_mode": {
    "name": "ipython",
    "version": 3
   },
   "file_extension": ".py",
   "mimetype": "text/x-python",
   "name": "python",
   "nbconvert_exporter": "python",
   "pygments_lexer": "ipython3",
   "version": "3.8.10"
  },
  "orig_nbformat": 4,
  "vscode": {
   "interpreter": {
    "hash": "916dbcbb3f70747c44a77c7bcd40155683ae19c65e1c03b4aa3499c5328201f1"
   }
  }
 },
 "nbformat": 4,
 "nbformat_minor": 2
}
