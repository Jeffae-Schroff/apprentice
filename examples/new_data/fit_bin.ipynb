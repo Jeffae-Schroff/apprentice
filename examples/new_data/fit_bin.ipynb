{
 "cells": [
  {
   "cell_type": "code",
   "execution_count": 4,
   "metadata": {},
   "outputs": [
    {
     "name": "stdout",
     "output_type": "stream",
     "text": [
      "<KeysViewHDF5 ['errors', 'index', 'params', 'runs', 'values', 'xmax', 'xmin']>\n",
      "parameter names:  ['MPIalphaS']\n",
      "4725  observables\n",
      "['/ATLAS_2019_I1736531/d01-x01-y01[AUX_isr:murfac=0.5]'\n",
      " '/ATLAS_2019_I1736531/d01-x01-y01[AUX_isr:murfac=2.0]'\n",
      " '/ATLAS_2019_I1736531/d01-x01-y01[AUX_isr:pdf:minus=1.0]'\n",
      " '/ATLAS_2019_I1736531/d01-x01-y01[AUX_isr:pdf:plus=1.0]'\n",
      " '/ATLAS_2019_I1736531/d01-x01-y01[AUX_mur0.5_muf1]'\n",
      " '/ATLAS_2019_I1736531/d01-x01-y01[AUX_mur2_muf_1]'\n",
      " '/ATLAS_2019_I1736531/d01-x01-y01[AUX_pdfdn]'\n",
      " '/ATLAS_2019_I1736531/d01-x01-y01[AUX_pdfup]'\n",
      " '/ATLAS_2019_I1736531/d02-x01-y01']\n",
      "[b'/ATLAS_2019_I1736531/d01-x01-y01#1'\n",
      " b'/ATLAS_2019_I1736531/d01-x01-y01#2'\n",
      " b'/ATLAS_2019_I1736531/d01-x01-y01#3'\n",
      " b'/ATLAS_2019_I1736531/d01-x01-y01#4'\n",
      " b'/ATLAS_2019_I1736531/d01-x01-y01#5'\n",
      " b'/ATLAS_2019_I1736531/d01-x01-y01#6'\n",
      " b'/ATLAS_2019_I1736531/d01-x01-y01#7'\n",
      " b'/ATLAS_2019_I1736531/d01-x01-y01[AUX_isr:murfac=0.5]#0'\n",
      " b'/ATLAS_2019_I1736531/d01-x01-y01[AUX_isr:murfac=0.5]#1']\n"
     ]
    }
   ],
   "source": [
    "import h5py\n",
    "import numpy as np\n",
    "import jax.numpy as jnp\n",
    "from jax.config import config\n",
    "config.update(\"jax_enable_x64\", True)\n",
    "import matplotlib.pyplot as plt\n",
    "\n",
    "# f = h5py.File('../dummy_data/jax_test/inputdata.h5', \"r\")\n",
    "f = h5py.File('inputdata.h5', \"r\")\n",
    "\n",
    "print(f.keys())\n",
    "\n",
    "pnames = [str(p) for p in f.get('params').attrs[\"names\"]]\n",
    "print(\"parameter names: \", pnames)\n",
    "\n",
    "observables = np.unique([x.decode().split(\"#\")[0] for x in f.get(\"index\")[:]])\n",
    "print(len(observables), \" observables\")\n",
    "print(observables[1:10])\n",
    "print(f.get(\"index\")[1:10])\n",
    "\n",
    "index = {}\n",
    "II = [x.decode() for x in f.get(\"index\")[:]]\n",
    "[index.setdefault(bin.split('#')[0], []).append(i) for i,bin in enumerate(II)]\n",
    "index = {k : np.array(index[k]) for k in index.keys()}"
   ]
  },
  {
   "cell_type": "code",
   "execution_count": 5,
   "metadata": {},
   "outputs": [],
   "source": [
    "def numCoeffsPoly(dim, order):\n",
    "    \"\"\"\n",
    "    Number of coefficients a dim-dimensional polynomial of order order has.\n",
    "    \"\"\"\n",
    "    ntok = 1\n",
    "    r = min(order, dim)\n",
    "    for i in range(r):\n",
    "        ntok = ntok * (dim + order - i) / (i + 1)\n",
    "    return int(ntok)\n",
    "def mono_next_grlex(m, x):\n",
    "    #  Author:\n",
    "    #\n",
    "    #    John Burkardt\n",
    "    #\n",
    "    #     TODO --- figure out the licensing thing https://people.sc.fsu.edu/~jburkardt/py_src/monomial/monomial.html\n",
    "\n",
    "    #  Find I, the index of the rightmost nonzero entry of X.\n",
    "    i = 0\n",
    "    for j in range(m, 0, -1):\n",
    "        if 0 < x[j-1]:\n",
    "            i = j\n",
    "            break\n",
    "\n",
    "    #  set T = X(I)\n",
    "    #  set X(I) to zero,\n",
    "    #  increase X(I-1) by 1,\n",
    "    #  increment X(M) by T-1.\n",
    "    if i == 0:\n",
    "        x[m-1] = 1\n",
    "        return x\n",
    "    elif i == 1:\n",
    "        t = x[0] + 1\n",
    "        im1 = m\n",
    "    elif 1 < i:\n",
    "        t = x[i-1]\n",
    "        im1 = i - 1\n",
    "\n",
    "    x[i-1] = 0\n",
    "    x[im1-1] = x[im1-1] + 1\n",
    "    x[m-1] = x[m-1] + t - 1\n",
    "\n",
    "    return x\n",
    "\n",
    "def vandermonde_jax(params, order):\n",
    "    \"\"\"\n",
    "    Construct the Vandermonde matrix.\n",
    "    \"\"\"\n",
    "    try:\n",
    "        dim = len(params[0])\n",
    "    except:\n",
    "        dim = 1\n",
    "\n",
    "    #We will take params to the power of s element-wise\n",
    "    if dim == 1:\n",
    "        s = jnp.array(range(order+1))\n",
    "    else:\n",
    "        term_list = [[0]*dim]\n",
    "        for i in range(1, numCoeffsPoly(dim, order)):\n",
    "            term_list.append(mono_next_grlex(dim, term_list[-1][:]))\n",
    "        s = jnp.array(term_list)\n",
    "    \n",
    "    if len(params[0]) == 1:\n",
    "        V = jnp.zeros((len(params), numCoeffsPoly(dim, order)), dtype=jnp.float64)\n",
    "        for a, p in enumerate(params): \n",
    "            V = V.at[a].set(p**s)\n",
    "        return V\n",
    "    else:\n",
    "        V = jnp.power(params, s[:, jnp.newaxis])\n",
    "        return jnp.prod(V, axis=2).T\n"
   ]
  },
  {
   "cell_type": "code",
   "execution_count": 6,
   "metadata": {},
   "outputs": [
    {
     "ename": "NameError",
     "evalue": "name 'vandermonde' is not defined",
     "output_type": "error",
     "traceback": [
      "\u001b[0;31m---------------------------------------------------------------------------\u001b[0m",
      "\u001b[0;31mNameError\u001b[0m                                 Traceback (most recent call last)",
      "\u001b[1;32m/home/jeffae/apprentice-cov/examples/new_data/fit_bin.ipynb Cell 3\u001b[0m in \u001b[0;36m<cell line: 11>\u001b[0;34m()\u001b[0m\n\u001b[1;32m      <a href='vscode-notebook-cell://wsl%2Bubuntu-20.04/home/jeffae/apprentice-cov/examples/new_data/fit_bin.ipynb#W2sdnNjb2RlLXJlbW90ZQ%3D%3D?line=7'>8</a>\u001b[0m Y \u001b[39m=\u001b[39m f[\u001b[39m'\u001b[39m\u001b[39mvalues\u001b[39m\u001b[39m'\u001b[39m][index[obs_name][\u001b[39mint\u001b[39m(bin_number)]]\n\u001b[1;32m     <a href='vscode-notebook-cell://wsl%2Bubuntu-20.04/home/jeffae/apprentice-cov/examples/new_data/fit_bin.ipynb#W2sdnNjb2RlLXJlbW90ZQ%3D%3D?line=9'>10</a>\u001b[0m VM \u001b[39m=\u001b[39m vandermonde_jax(X, order)\n\u001b[0;32m---> <a href='vscode-notebook-cell://wsl%2Bubuntu-20.04/home/jeffae/apprentice-cov/examples/new_data/fit_bin.ipynb#W2sdnNjb2RlLXJlbW90ZQ%3D%3D?line=10'>11</a>\u001b[0m \u001b[39mprint\u001b[39m(\u001b[39m'\u001b[39m\u001b[39mshould be 0(equal): \u001b[39m\u001b[39m'\u001b[39m, np\u001b[39m.\u001b[39msubtract(vandermonde(X, order),VM))\n\u001b[1;32m     <a href='vscode-notebook-cell://wsl%2Bubuntu-20.04/home/jeffae/apprentice-cov/examples/new_data/fit_bin.ipynb#W2sdnNjb2RlLXJlbW90ZQ%3D%3D?line=11'>12</a>\u001b[0m \u001b[39mprint\u001b[39m(\u001b[39m'\u001b[39m\u001b[39mparams \u001b[39m\u001b[39m'\u001b[39m, X)\n\u001b[1;32m     <a href='vscode-notebook-cell://wsl%2Bubuntu-20.04/home/jeffae/apprentice-cov/examples/new_data/fit_bin.ipynb#W2sdnNjb2RlLXJlbW90ZQ%3D%3D?line=12'>13</a>\u001b[0m \u001b[39mprint\u001b[39m(\u001b[39m'\u001b[39m\u001b[39mvalues \u001b[39m\u001b[39m'\u001b[39m, Y)\n",
      "\u001b[0;31mNameError\u001b[0m: name 'vandermonde' is not defined"
     ]
    }
   ],
   "source": [
    "order = 3\n",
    "dim = len(f['params'][0])\n",
    "bin_name = '/ATLAS_2019_I1736531/d01-x01-y01[AUX_isr:murfac=0.5]#0'\n",
    "# bin_name = \"/func0#0\"\n",
    "\n",
    "obs_name, bin_number = bin_name.split('#')[0], bin_name.split('#')[1] \n",
    "X = np.array(f['params'][:], dtype=np.float64)\n",
    "Y = f['values'][index[obs_name][int(bin_number)]]\n",
    "\n",
    "VM = vandermonde_jax(X, order)\n",
    "print('should be 0(equal): ', np.subtract(vandermonde_jax(X, order),VM))\n",
    "print('params ', X)\n",
    "print('values ', Y)\n",
    "print('vandermonde ', VM)"
   ]
  },
  {
   "cell_type": "code",
   "execution_count": null,
   "metadata": {},
   "outputs": [
    {
     "name": "stdout",
     "output_type": "stream",
     "text": [
      "<KeysViewHDF5 ['errors', 'index', 'params', 'runs', 'values', 'xmax', 'xmin']>\n",
      "[b'submit/000000', b'submit/000001', b'submit/000002', b'submit/000003', b'submit/000004', b'submit/000005', b'submit/000006', b'submit/000007', b'submit/000008', b'submit/000009']\n"
     ]
    }
   ],
   "source": [
    "print(f.keys())\n",
    "print(list(f['runs']))"
   ]
  },
  {
   "cell_type": "code",
   "execution_count": null,
   "metadata": {},
   "outputs": [],
   "source": [
    "def grlex_eval(dim, order, coeff, x):\n",
    "    np.flip(x)\n",
    "    term = np.zeros(dim)\n",
    "    sum = 0\n",
    "    for i in range(numCoeffsPoly(dim, order)):\n",
    "        sum += coeff[i]*(x**term).prod()\n",
    "        # print(coeff[i], ' * ', x**term, ' term ', term)\n",
    "        term = mono_next_grlex(dim, term)\n",
    "    return sum.sum()"
   ]
  },
  {
   "cell_type": "code",
   "execution_count": null,
   "metadata": {},
   "outputs": [
    {
     "name": "stdout",
     "output_type": "stream",
     "text": [
      "[  -12.17221249   331.0869855  -3059.79276365  9989.71780183]\n"
     ]
    },
    {
     "data": {
      "text/plain": [
       "<matplotlib.collections.PathCollection at 0x7fbc0dbf08e0>"
      ]
     },
     "execution_count": 202,
     "metadata": {},
     "output_type": "execute_result"
    },
    {
     "data": {
      "image/png": "[encoded data removed]",
      "text/plain": [
       "<Figure size 432x288 with 1 Axes>"
      ]
     },
     "metadata": {
      "needs_background": "light"
     },
     "output_type": "display_data"
    }
   ],
   "source": [
    "pceoff, res, rank, s  = np.linalg.lstsq(VM, Y, rcond=None)\n",
    "print(pceoff)\n",
    "# xmin = f['xmin'][index[obs_name][int(bin_number)]]\n",
    "\n",
    "x = np.linspace(0.1,0.16,100)\n",
    "surrogate = [grlex_eval(dim, order, pceoff, i) for i in x]\n",
    "surrogate2 = np.matmul(VM,x)\n",
    "plt.plot(x, surrogate)\n",
    "plt.scatter(X.flatten(), Y)\n",
    "print(surrogate, surrogate2)"
   ]
  },
  {
   "cell_type": "code",
   "execution_count": null,
   "metadata": {},
   "outputs": [],
   "source": [
    "f.close()"
   ]
  },
  {
   "cell_type": "code",
   "execution_count": null,
   "metadata": {},
   "outputs": [
    {
     "name": "stdout",
     "output_type": "stream",
     "text": [
      "[[0 0]\n",
      " [0 1]\n",
      " [1 0]\n",
      " [0 2]\n",
      " [1 1]\n",
      " [2 0]\n",
      " [0 3]\n",
      " [1 2]\n",
      " [2 1]\n",
      " [3 0]]\n"
     ]
    }
   ],
   "source": [
    "import numpy as np\n",
    "from numba import jit, njit\n",
    "\n",
    "# @njit\n",
    "def mono_next_grlex(m, x):\n",
    "    #  Author:\n",
    "    #\n",
    "    #    John Burkardt\n",
    "    #\n",
    "    #     TODO --- figure out the licensing thing https://people.sc.fsu.edu/~jburkardt/py_src/monomial/monomial.html\n",
    "\n",
    "    #  Find I, the index of the rightmost nonzero entry of X.\n",
    "    i = 0\n",
    "    for j in range(m, 0, -1):\n",
    "        if 0 < x[j-1]:\n",
    "            i = j\n",
    "            break\n",
    "\n",
    "    #  set T = X(I)\n",
    "    #  set X(I) to zero,\n",
    "    #  increase X(I-1) by 1,\n",
    "    #  increment X(M) by T-1.\n",
    "    if i == 0:\n",
    "        x[m-1] = 1\n",
    "        return x\n",
    "    elif i == 1:\n",
    "        t = x[0] + 1\n",
    "        im1 = m\n",
    "    elif 1 < i:\n",
    "        t = x[i-1]\n",
    "        im1 = i - 1\n",
    "\n",
    "    x[i-1] = 0\n",
    "    x[im1-1] = x[im1-1] + 1\n",
    "    x[m-1] = x[m-1] + t - 1\n",
    "\n",
    "    return x\n",
    "\n",
    "def genStruct(dim, mnm):\n",
    "    while True:\n",
    "        yield mnm\n",
    "        mnm =  mono_next_grlex(dim, mnm)\n",
    "\n",
    "from functools import lru_cache\n",
    "@lru_cache(maxsize=32)\n",
    "def monomialStructure(dim, order):\n",
    "    import numpy as np\n",
    "    import copy\n",
    "    from apprentice import tools\n",
    "    ncmax = tools.numCoeffsPoly(dim, order)\n",
    "    gen = genStruct(dim, np.zeros(dim))\n",
    "    structure = np.array([ copy.copy(next(gen)) for _ in range(ncmax)], dtype=int)\n",
    "    # Dimension one requires some extra treatment when returning ---writing out is fine\n",
    "    if dim==1:\n",
    "        return structure.ravel()\n",
    "    return structure\n",
    "\n",
    "def recurrence1D(X, structure):\n",
    "    return X**structure\n",
    "\n",
    "def recurrence(X, structure):\n",
    "    \"\"\"\n",
    "    Create the parameter combination vector for a particular structure,\n",
    "    or in more mathy terms, the recurrence relation for X in a monomial basis\n",
    "    structure.\n",
    "    \"\"\"\n",
    "    return np.prod(X**structure, axis=1, dtype=np.float64)\n",
    "\n",
    "\n",
    "def recurrence2(X, structure, nnz):\n",
    "    temp = np.ones((len(structure), len(X)))\n",
    "    np.power(X, structure, where=nnz, out=(temp))\n",
    "    return np.prod(temp, axis=1)\n",
    "\n",
    "def vandermonde(params, order):\n",
    "    \"\"\"\n",
    "    Construct the Vandermonde matrix.\n",
    "    \"\"\"\n",
    "    import numpy as np\n",
    "    try:\n",
    "        dim = len(params[0])\n",
    "    except:\n",
    "        dim = 1\n",
    "\n",
    "    from apprentice import tools\n",
    "    s = monomialStructure(dim, order)\n",
    "    if len(params[0]) == 1:\n",
    "        V = np.zeros((len(params), tools.numCoeffsPoly(dim, order)), dtype=np.float64)\n",
    "        for a, p in enumerate(params): V[a]=recurrence1D(p, s)\n",
    "        return V\n",
    "    else:\n",
    "        V = np.ones((tools.numCoeffsPoly(dim, order), *params.shape), dtype=np.float64)\n",
    "        np.power(params, s[:, np.newaxis], out=(V), where=s[:, np.newaxis]>0)\n",
    "        return np.prod(V, axis=2).T\n",
    "\n",
    "if __name__==\"__main__\":\n",
    "    print(monomialStructure(2,3))\n"
   ]
  }
 ],
 "metadata": {
  "kernelspec": {
   "display_name": "Python 3.8.10 64-bit",
   "language": "python",
   "name": "python3"
  },
  "language_info": {
   "codemirror_mode": {
    "name": "ipython",
    "version": 3
   },
   "file_extension": ".py",
   "mimetype": "text/x-python",
   "name": "python",
   "nbconvert_exporter": "python",
   "pygments_lexer": "ipython3",
   "version": "3.8.10"
  },
  "orig_nbformat": 4,
  "vscode": {
   "interpreter": {
    "hash": "916dbcbb3f70747c44a77c7bcd40155683ae19c65e1c03b4aa3499c5328201f1"
   }
  }
 },
 "nbformat": 4,
 "nbformat_minor": 2
}
