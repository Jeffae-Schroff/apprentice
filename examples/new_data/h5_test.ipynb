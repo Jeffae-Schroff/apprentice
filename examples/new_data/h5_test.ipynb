{
 "cells": [
  {
   "cell_type": "code",
   "execution_count": 1,
   "metadata": {},
   "outputs": [],
   "source": [
    "import h5py\n"
   ]
  },
  {
   "cell_type": "code",
   "execution_count": 21,
   "metadata": {},
   "outputs": [],
   "source": [
    "f = h5py.File('timetest.h5', 'a')\n",
    "del f['index']\n",
    "data = ['apple#0', 'apple#1','snapple#0','snapple#0']\n",
    "f.create_dataset('index', data=[d.encode('UTF-8','strict') for d in data])\n",
    "f.close()"
   ]
  },
  {
   "cell_type": "code",
   "execution_count": 6,
   "metadata": {},
   "outputs": [
    {
     "name": "stdout",
     "output_type": "stream",
     "text": [
      "<KeysViewHDF5 ['errors', 'index', 'params', 'runs', 'values', 'xmax', 'xmin']>\n",
      "b'/ATLAS_2019_I1736531/d01-x01-y01#0'\n",
      "b'/ATLAS_2019_I1736531/d01-x01-y01#1'\n",
      "b'/ATLAS_2019_I1736531/d01-x01-y01#2'\n",
      "b'/ATLAS_2019_I1736531/d01-x01-y01#3'\n",
      "b'/ATLAS_2019_I1736531/d01-x01-y01#4'\n",
      "b'/ATLAS_2019_I1736531/d01-x01-y01#5'\n",
      "b'/ATLAS_2019_I1736531/d01-x01-y01#6'\n",
      "b'/ATLAS_2019_I1736531/d01-x01-y01#7'\n",
      "b'/ATLAS_2019_I1736531/d01-x01-y01[AUX_isr:murfac=0.5]#0'\n",
      "b'/ATLAS_2019_I1736531/d01-x01-y01[AUX_isr:murfac=0.5]#1'\n"
     ]
    }
   ],
   "source": [
    "f = h5py.File('inputdata.h5', \"r+\")\n",
    "print(f.keys())\n",
    "for i in range(10):\n",
    "    print(f['index'][i])\n",
    "f.close()"
   ]
  },
  {
   "cell_type": "code",
   "execution_count": 8,
   "metadata": {},
   "outputs": [
    {
     "name": "stdout",
     "output_type": "stream",
     "text": [
      "<KeysViewHDF5 ['errors', 'index', 'params', 'runs', 'values', 'xmax', 'xmin']>\n",
      "b'/func0#0'\n",
      "b'/func0#1'\n",
      "b'/func0#2'\n",
      "b'/func0#3'\n",
      "b'/func0#4'\n",
      "b'/func0#5'\n",
      "b'/func0#6'\n",
      "b'/func0#7'\n",
      "b'/func0#8'\n",
      "b'/func0#9'\n",
      "b'/func0#10'\n",
      "b'/func0#11'\n",
      "b'/func0#12'\n",
      "b'/func0#13'\n",
      "b'/func0#14'\n",
      "b'/func0#15'\n",
      "b'/func0#16'\n",
      "b'/func0#17'\n",
      "b'/func0#18'\n",
      "b'/func0#19'\n",
      "b'/func1#0'\n",
      "b'/func1#1'\n",
      "b'/func1#2'\n",
      "b'/func1#3'\n",
      "b'/func1#4'\n",
      "b'/func1#5'\n",
      "b'/func1#6'\n",
      "b'/func1#7'\n",
      "b'/func1#8'\n",
      "b'/func1#9'\n",
      "b'/func1#10'\n",
      "b'/func1#11'\n",
      "b'/func1#12'\n",
      "b'/func1#13'\n",
      "b'/func1#14'\n",
      "b'/func1#15'\n",
      "b'/func1#16'\n",
      "b'/func1#17'\n",
      "b'/func1#18'\n",
      "b'/func1#19'\n"
     ]
    }
   ],
   "source": [
    "f = h5py.File('../dummy_data/jax_test/inputdata.h5', \"r+\")\n",
    "print(f.keys())\n",
    "for i in f['index']:\n",
    "    print(i)\n",
    "f.close()"
   ]
  }
 ],
 "metadata": {
  "kernelspec": {
   "display_name": "Python 3.8.10 64-bit",
   "language": "python",
   "name": "python3"
  },
  "language_info": {
   "codemirror_mode": {
    "name": "ipython",
    "version": 3
   },
   "file_extension": ".py",
   "mimetype": "text/x-python",
   "name": "python",
   "nbconvert_exporter": "python",
   "pygments_lexer": "ipython3",
   "version": "3.8.10"
  },
  "orig_nbformat": 4,
  "vscode": {
   "interpreter": {
    "hash": "916dbcbb3f70747c44a77c7bcd40155683ae19c65e1c03b4aa3499c5328201f1"
   }
  }
 },
 "nbformat": 4,
 "nbformat_minor": 2
}
